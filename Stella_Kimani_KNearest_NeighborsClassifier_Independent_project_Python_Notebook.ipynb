{
  "nbformat": 4,
  "nbformat_minor": 0,
  "metadata": {
    "colab": {
      "name": "Stella_Kimani: KNearest NeighborsClassifier - Independent_project_Python_Notebook",
      "provenance": [],
      "collapsed_sections": [
        "kLG2VTrnTvYL",
        "XecOwPNorl2W",
        "J4wfHZwQrs-t",
        "a9BPYqunry97",
        "7KMRBJ7zr9HD",
        "zSGyg6kWsBUl",
        "OI3P3YnHUEBk",
        "ckfufNrcUHeH",
        "FlBMxEDBUc9B",
        "rF2ABPsHUtbZ",
        "HPQviDmNtta8",
        "HSsicSdvt4Zs"
      ],
      "include_colab_link": true
    },
    "kernelspec": {
      "name": "python3",
      "display_name": "Python 3"
    }
  },
  "cells": [
    {
      "cell_type": "markdown",
      "metadata": {
        "id": "view-in-github",
        "colab_type": "text"
      },
      "source": [
        "<a href=\"https://colab.research.google.com/github/Stella-kimani/S.Kimani-Supervised-Learning-Naives-KNN/blob/master/Stella_Kimani_KNearest_NeighborsClassifier_Independent_project_Python_Notebook.ipynb\" target=\"_parent\"><img src=\"https://colab.research.google.com/assets/colab-badge.svg\" alt=\"Open In Colab\"/></a>"
      ]
    },
    {
      "cell_type": "markdown",
      "metadata": {
        "id": "kLG2VTrnTvYL",
        "colab_type": "text"
      },
      "source": [
        "## 1. Defining the Question"
      ]
    },
    {
      "cell_type": "markdown",
      "metadata": {
        "id": "XecOwPNorl2W",
        "colab_type": "text"
      },
      "source": [
        "### a) Specifying the Data Analytic Question\n",
        "\n",
        "Use KNearest Neighbours algorithm to determine if a passenger aboard the Titanic survived  or not."
      ]
    },
    {
      "cell_type": "markdown",
      "metadata": {
        "id": "J4wfHZwQrs-t",
        "colab_type": "text"
      },
      "source": [
        "### b) Defining the Metric for Success\n",
        "\n",
        "\n",
        "The model will be considered successful  it is able to have an accuracy score of at least 80%."
      ]
    },
    {
      "cell_type": "markdown",
      "metadata": {
        "id": "a9BPYqunry97",
        "colab_type": "text"
      },
      "source": [
        "### c) Understanding the context \n",
        "\n",
        "Titanic is one of the most infamous shipwrecks in history. On April 15, 1912, the Titanic sank after colliding with an iceberg, killing 1502 out of 2224 passengers and crew. This sensational tragedy shocked the international community and led to better safety regulations for ships. In this project, we need to complete the analysis of what sorts of people were likely to survive. In particular, we apply the KNN classifier to predict which passengers survived this tragedy.\n",
        "\n",
        "The data has been split into two groups:\n",
        "\n",
        "Training set (train.csv)\n",
        "Test set(test.csv)\n",
        "The training set includes passengers survival status(also know as the ground truth from the titanic tragedy) which along with other features like gender, class, fare and pclass is used to create machine learning model.\n",
        "\n",
        "The test set should be used to see how well my model performs on unseen data. The test set does not provide passengers survival status. We are going to use our model to predict passenger survival status.\n",
        "\n",
        "\n",
        "Lets describe whats the meaning of the features given the both train & test datasets.\n",
        "\n",
        "Variable Definition Key.\n",
        "\n",
        "Survival\n",
        "\n",
        "0= No\n",
        "\n",
        "1= Yes\n",
        "\n",
        "pclass (Ticket class)\n",
        "\n",
        "1=1st\n",
        "\n",
        "2=2nd\n",
        "\n",
        "3=3rd\n",
        "\n",
        "sex\n",
        "\n",
        "age : Age of a person\n",
        "\n",
        "sibsp (# of siblings / spouses aboard the Titanic)\n",
        "\n",
        "parch (# of parents / children aboard the Titanic)\n",
        "\n",
        "tickets\n",
        "\n",
        "fare\n",
        "\n",
        "cabin\n",
        "\n",
        "embarked Port of Embarkation.\n",
        "\n",
        "C = Cherbourg,\n",
        "\n",
        "Q = Queenstown,\n",
        "\n",
        "S = Southampton\n",
        "\n",
        "pclass: A proxy for socio-economic status (SES"
      ]
    },
    {
      "cell_type": "markdown",
      "metadata": {
        "id": "7KMRBJ7zr9HD",
        "colab_type": "text"
      },
      "source": [
        "### d) Recording the Experimental Design\n",
        "\n",
        "\n",
        "The following are the steps that we will take to conduct this project. They are listed below:\n",
        "\n",
        "1.loading the required libraries\n",
        "\n",
        "2.loading the data set\n",
        "\n",
        "3.check the data\n",
        "\n",
        "4.data preparation and cleaning\n",
        "\n",
        "5.performing Exploratory Data Analysis (EDA)\n",
        "\n",
        "6.Do any necessary encoding of data, Modelling \n",
        "\n",
        "7.train the models\n",
        "\n",
        "8.make predictions using the  models\n",
        "\n",
        "9.evaluate the performance of the models\n",
        "\n",
        "11.Challenge the models.\n",
        "\n",
        "11.draw conclusions\n"
      ]
    },
    {
      "cell_type": "markdown",
      "metadata": {
        "id": "zSGyg6kWsBUl",
        "colab_type": "text"
      },
      "source": [
        "### e) Data Relevance\n",
        "\n",
        "We are given the train and test data. The training set is used to build our machine learning models. For the training set, we are provided the outcome for each passenger. Our model will be based on “features” like passengers’ gender and class.\n",
        "\n",
        "The test set is used to see how well our model performs on unseen data. For the test set, we are not provided the ground truth for each passenger. It is our job to predict these outcomes. For each passenger in the test set, use the model we trained to predict whether or not they survived the sinking of the Titanic."
      ]
    },
    {
      "cell_type": "markdown",
      "metadata": {
        "id": "iUNbvIvnT7ep",
        "colab_type": "text"
      },
      "source": [
        "## 2. Reading the Data"
      ]
    },
    {
      "cell_type": "code",
      "metadata": {
        "id": "4eVfRRSnNg-n",
        "colab_type": "code",
        "colab": {}
      },
      "source": [
        "import pandas as pd\n",
        "import numpy as np\n",
        "from sklearn.model_selection import train_test_split\n",
        "from matplotlib import pyplot as plt\n",
        "import seaborn as sns\n",
        "%matplotlib inline"
      ],
      "execution_count": 3,
      "outputs": []
    },
    {
      "cell_type": "code",
      "metadata": {
        "id": "XJn2KjW-WMlG",
        "colab_type": "code",
        "colab": {}
      },
      "source": [
        "# Loading the Data from the source i.e. csv\n",
        "# ---\n",
        "train = pd.read_csv('/content/train.csv', index_col = 'PassengerId')\n",
        "test = pd.read_csv('/content/test.csv', index_col = 'PassengerId')"
      ],
      "execution_count": 4,
      "outputs": []
    },
    {
      "cell_type": "markdown",
      "metadata": {
        "id": "OI3P3YnHUEBk",
        "colab_type": "text"
      },
      "source": [
        "\n",
        "\n",
        "## 3. Checking the Data"
      ]
    },
    {
      "cell_type": "code",
      "metadata": {
        "id": "YjSVNwgptHxY",
        "colab_type": "code",
        "colab": {
          "base_uri": "https://localhost:8080/",
          "height": 54
        },
        "outputId": "25f95cb3-c8bf-4351-c06f-6f84603dcedc"
      },
      "source": [
        "# Determining the no. of records in our dataset\n",
        "#\n",
        "train.shape\n",
        "test.shape\n",
        "display('Train dataset has {} rows and {} columns'.format(train.shape[0], train.shape[1]))\n",
        "display('Test dataset has {} rows with {} columns'.format(test.shape[0], test.shape[1]))"
      ],
      "execution_count": 5,
      "outputs": [
        {
          "output_type": "display_data",
          "data": {
            "application/vnd.google.colaboratory.intrinsic+json": {
              "type": "string"
            },
            "text/plain": [
              "'Train dataset has 891 rows and 11 columns'"
            ]
          },
          "metadata": {
            "tags": []
          }
        },
        {
          "output_type": "display_data",
          "data": {
            "application/vnd.google.colaboratory.intrinsic+json": {
              "type": "string"
            },
            "text/plain": [
              "'Test dataset has 418 rows with 10 columns'"
            ]
          },
          "metadata": {
            "tags": []
          }
        }
      ]
    },
    {
      "cell_type": "code",
      "metadata": {
        "id": "xHhTw5eKWr0n",
        "colab_type": "code",
        "colab": {
          "base_uri": "https://localhost:8080/",
          "height": 230
        },
        "outputId": "fd3b500c-a403-49a6-acfb-f1af2709f353"
      },
      "source": [
        "# Previewing the top of train dataset\n",
        "#\n",
        "train.head()"
      ],
      "execution_count": null,
      "outputs": [
        {
          "output_type": "execute_result",
          "data": {
            "text/html": [
              "<div>\n",
              "<style scoped>\n",
              "    .dataframe tbody tr th:only-of-type {\n",
              "        vertical-align: middle;\n",
              "    }\n",
              "\n",
              "    .dataframe tbody tr th {\n",
              "        vertical-align: top;\n",
              "    }\n",
              "\n",
              "    .dataframe thead th {\n",
              "        text-align: right;\n",
              "    }\n",
              "</style>\n",
              "<table border=\"1\" class=\"dataframe\">\n",
              "  <thead>\n",
              "    <tr style=\"text-align: right;\">\n",
              "      <th></th>\n",
              "      <th>Survived</th>\n",
              "      <th>Pclass</th>\n",
              "      <th>Name</th>\n",
              "      <th>Sex</th>\n",
              "      <th>Age</th>\n",
              "      <th>SibSp</th>\n",
              "      <th>Parch</th>\n",
              "      <th>Ticket</th>\n",
              "      <th>Fare</th>\n",
              "      <th>Cabin</th>\n",
              "      <th>Embarked</th>\n",
              "    </tr>\n",
              "    <tr>\n",
              "      <th>PassengerId</th>\n",
              "      <th></th>\n",
              "      <th></th>\n",
              "      <th></th>\n",
              "      <th></th>\n",
              "      <th></th>\n",
              "      <th></th>\n",
              "      <th></th>\n",
              "      <th></th>\n",
              "      <th></th>\n",
              "      <th></th>\n",
              "      <th></th>\n",
              "    </tr>\n",
              "  </thead>\n",
              "  <tbody>\n",
              "    <tr>\n",
              "      <th>1</th>\n",
              "      <td>0</td>\n",
              "      <td>3</td>\n",
              "      <td>Braund, Mr. Owen Harris</td>\n",
              "      <td>male</td>\n",
              "      <td>22.0</td>\n",
              "      <td>1</td>\n",
              "      <td>0</td>\n",
              "      <td>A/5 21171</td>\n",
              "      <td>7.2500</td>\n",
              "      <td>NaN</td>\n",
              "      <td>S</td>\n",
              "    </tr>\n",
              "    <tr>\n",
              "      <th>2</th>\n",
              "      <td>1</td>\n",
              "      <td>1</td>\n",
              "      <td>Cumings, Mrs. John Bradley (Florence Briggs Th...</td>\n",
              "      <td>female</td>\n",
              "      <td>38.0</td>\n",
              "      <td>1</td>\n",
              "      <td>0</td>\n",
              "      <td>PC 17599</td>\n",
              "      <td>71.2833</td>\n",
              "      <td>C85</td>\n",
              "      <td>C</td>\n",
              "    </tr>\n",
              "    <tr>\n",
              "      <th>3</th>\n",
              "      <td>1</td>\n",
              "      <td>3</td>\n",
              "      <td>Heikkinen, Miss. Laina</td>\n",
              "      <td>female</td>\n",
              "      <td>26.0</td>\n",
              "      <td>0</td>\n",
              "      <td>0</td>\n",
              "      <td>STON/O2. 3101282</td>\n",
              "      <td>7.9250</td>\n",
              "      <td>NaN</td>\n",
              "      <td>S</td>\n",
              "    </tr>\n",
              "    <tr>\n",
              "      <th>4</th>\n",
              "      <td>1</td>\n",
              "      <td>1</td>\n",
              "      <td>Futrelle, Mrs. Jacques Heath (Lily May Peel)</td>\n",
              "      <td>female</td>\n",
              "      <td>35.0</td>\n",
              "      <td>1</td>\n",
              "      <td>0</td>\n",
              "      <td>113803</td>\n",
              "      <td>53.1000</td>\n",
              "      <td>C123</td>\n",
              "      <td>S</td>\n",
              "    </tr>\n",
              "    <tr>\n",
              "      <th>5</th>\n",
              "      <td>0</td>\n",
              "      <td>3</td>\n",
              "      <td>Allen, Mr. William Henry</td>\n",
              "      <td>male</td>\n",
              "      <td>35.0</td>\n",
              "      <td>0</td>\n",
              "      <td>0</td>\n",
              "      <td>373450</td>\n",
              "      <td>8.0500</td>\n",
              "      <td>NaN</td>\n",
              "      <td>S</td>\n",
              "    </tr>\n",
              "  </tbody>\n",
              "</table>\n",
              "</div>"
            ],
            "text/plain": [
              "             Survived  Pclass  ... Cabin Embarked\n",
              "PassengerId                    ...               \n",
              "1                   0       3  ...   NaN        S\n",
              "2                   1       1  ...   C85        C\n",
              "3                   1       3  ...   NaN        S\n",
              "4                   1       1  ...  C123        S\n",
              "5                   0       3  ...   NaN        S\n",
              "\n",
              "[5 rows x 11 columns]"
            ]
          },
          "metadata": {
            "tags": []
          },
          "execution_count": 5
        }
      ]
    },
    {
      "cell_type": "code",
      "metadata": {
        "id": "CcgBNWsXQsap",
        "colab_type": "code",
        "colab": {
          "base_uri": "https://localhost:8080/",
          "height": 230
        },
        "outputId": "1cd276ae-f662-41c9-ff80-c0ac4ae9deb9"
      },
      "source": [
        "#previewing the top of test dataset\n",
        "test.head()"
      ],
      "execution_count": null,
      "outputs": [
        {
          "output_type": "execute_result",
          "data": {
            "text/html": [
              "<div>\n",
              "<style scoped>\n",
              "    .dataframe tbody tr th:only-of-type {\n",
              "        vertical-align: middle;\n",
              "    }\n",
              "\n",
              "    .dataframe tbody tr th {\n",
              "        vertical-align: top;\n",
              "    }\n",
              "\n",
              "    .dataframe thead th {\n",
              "        text-align: right;\n",
              "    }\n",
              "</style>\n",
              "<table border=\"1\" class=\"dataframe\">\n",
              "  <thead>\n",
              "    <tr style=\"text-align: right;\">\n",
              "      <th></th>\n",
              "      <th>Pclass</th>\n",
              "      <th>Name</th>\n",
              "      <th>Sex</th>\n",
              "      <th>Age</th>\n",
              "      <th>SibSp</th>\n",
              "      <th>Parch</th>\n",
              "      <th>Ticket</th>\n",
              "      <th>Fare</th>\n",
              "      <th>Cabin</th>\n",
              "      <th>Embarked</th>\n",
              "    </tr>\n",
              "    <tr>\n",
              "      <th>PassengerId</th>\n",
              "      <th></th>\n",
              "      <th></th>\n",
              "      <th></th>\n",
              "      <th></th>\n",
              "      <th></th>\n",
              "      <th></th>\n",
              "      <th></th>\n",
              "      <th></th>\n",
              "      <th></th>\n",
              "      <th></th>\n",
              "    </tr>\n",
              "  </thead>\n",
              "  <tbody>\n",
              "    <tr>\n",
              "      <th>892</th>\n",
              "      <td>3</td>\n",
              "      <td>Kelly, Mr. James</td>\n",
              "      <td>male</td>\n",
              "      <td>34.5</td>\n",
              "      <td>0</td>\n",
              "      <td>0</td>\n",
              "      <td>330911</td>\n",
              "      <td>7.8292</td>\n",
              "      <td>NaN</td>\n",
              "      <td>Q</td>\n",
              "    </tr>\n",
              "    <tr>\n",
              "      <th>893</th>\n",
              "      <td>3</td>\n",
              "      <td>Wilkes, Mrs. James (Ellen Needs)</td>\n",
              "      <td>female</td>\n",
              "      <td>47.0</td>\n",
              "      <td>1</td>\n",
              "      <td>0</td>\n",
              "      <td>363272</td>\n",
              "      <td>7.0000</td>\n",
              "      <td>NaN</td>\n",
              "      <td>S</td>\n",
              "    </tr>\n",
              "    <tr>\n",
              "      <th>894</th>\n",
              "      <td>2</td>\n",
              "      <td>Myles, Mr. Thomas Francis</td>\n",
              "      <td>male</td>\n",
              "      <td>62.0</td>\n",
              "      <td>0</td>\n",
              "      <td>0</td>\n",
              "      <td>240276</td>\n",
              "      <td>9.6875</td>\n",
              "      <td>NaN</td>\n",
              "      <td>Q</td>\n",
              "    </tr>\n",
              "    <tr>\n",
              "      <th>895</th>\n",
              "      <td>3</td>\n",
              "      <td>Wirz, Mr. Albert</td>\n",
              "      <td>male</td>\n",
              "      <td>27.0</td>\n",
              "      <td>0</td>\n",
              "      <td>0</td>\n",
              "      <td>315154</td>\n",
              "      <td>8.6625</td>\n",
              "      <td>NaN</td>\n",
              "      <td>S</td>\n",
              "    </tr>\n",
              "    <tr>\n",
              "      <th>896</th>\n",
              "      <td>3</td>\n",
              "      <td>Hirvonen, Mrs. Alexander (Helga E Lindqvist)</td>\n",
              "      <td>female</td>\n",
              "      <td>22.0</td>\n",
              "      <td>1</td>\n",
              "      <td>1</td>\n",
              "      <td>3101298</td>\n",
              "      <td>12.2875</td>\n",
              "      <td>NaN</td>\n",
              "      <td>S</td>\n",
              "    </tr>\n",
              "  </tbody>\n",
              "</table>\n",
              "</div>"
            ],
            "text/plain": [
              "             Pclass  ... Embarked\n",
              "PassengerId          ...         \n",
              "892               3  ...        Q\n",
              "893               3  ...        S\n",
              "894               2  ...        Q\n",
              "895               3  ...        S\n",
              "896               3  ...        S\n",
              "\n",
              "[5 rows x 10 columns]"
            ]
          },
          "metadata": {
            "tags": []
          },
          "execution_count": 6
        }
      ]
    },
    {
      "cell_type": "code",
      "metadata": {
        "id": "e9AzGcZFrIIr",
        "colab_type": "code",
        "colab": {
          "base_uri": "https://localhost:8080/",
          "height": 230
        },
        "outputId": "bd50ea90-1f91-42aa-b0d8-d96db38f3863"
      },
      "source": [
        "# Previewing the bottom of train dataset\n",
        "# \n",
        "train.tail()"
      ],
      "execution_count": null,
      "outputs": [
        {
          "output_type": "execute_result",
          "data": {
            "text/html": [
              "<div>\n",
              "<style scoped>\n",
              "    .dataframe tbody tr th:only-of-type {\n",
              "        vertical-align: middle;\n",
              "    }\n",
              "\n",
              "    .dataframe tbody tr th {\n",
              "        vertical-align: top;\n",
              "    }\n",
              "\n",
              "    .dataframe thead th {\n",
              "        text-align: right;\n",
              "    }\n",
              "</style>\n",
              "<table border=\"1\" class=\"dataframe\">\n",
              "  <thead>\n",
              "    <tr style=\"text-align: right;\">\n",
              "      <th></th>\n",
              "      <th>Survived</th>\n",
              "      <th>Pclass</th>\n",
              "      <th>Name</th>\n",
              "      <th>Sex</th>\n",
              "      <th>Age</th>\n",
              "      <th>SibSp</th>\n",
              "      <th>Parch</th>\n",
              "      <th>Ticket</th>\n",
              "      <th>Fare</th>\n",
              "      <th>Cabin</th>\n",
              "      <th>Embarked</th>\n",
              "    </tr>\n",
              "    <tr>\n",
              "      <th>PassengerId</th>\n",
              "      <th></th>\n",
              "      <th></th>\n",
              "      <th></th>\n",
              "      <th></th>\n",
              "      <th></th>\n",
              "      <th></th>\n",
              "      <th></th>\n",
              "      <th></th>\n",
              "      <th></th>\n",
              "      <th></th>\n",
              "      <th></th>\n",
              "    </tr>\n",
              "  </thead>\n",
              "  <tbody>\n",
              "    <tr>\n",
              "      <th>887</th>\n",
              "      <td>0</td>\n",
              "      <td>2</td>\n",
              "      <td>Montvila, Rev. Juozas</td>\n",
              "      <td>male</td>\n",
              "      <td>27.0</td>\n",
              "      <td>0</td>\n",
              "      <td>0</td>\n",
              "      <td>211536</td>\n",
              "      <td>13.00</td>\n",
              "      <td>NaN</td>\n",
              "      <td>S</td>\n",
              "    </tr>\n",
              "    <tr>\n",
              "      <th>888</th>\n",
              "      <td>1</td>\n",
              "      <td>1</td>\n",
              "      <td>Graham, Miss. Margaret Edith</td>\n",
              "      <td>female</td>\n",
              "      <td>19.0</td>\n",
              "      <td>0</td>\n",
              "      <td>0</td>\n",
              "      <td>112053</td>\n",
              "      <td>30.00</td>\n",
              "      <td>B42</td>\n",
              "      <td>S</td>\n",
              "    </tr>\n",
              "    <tr>\n",
              "      <th>889</th>\n",
              "      <td>0</td>\n",
              "      <td>3</td>\n",
              "      <td>Johnston, Miss. Catherine Helen \"Carrie\"</td>\n",
              "      <td>female</td>\n",
              "      <td>NaN</td>\n",
              "      <td>1</td>\n",
              "      <td>2</td>\n",
              "      <td>W./C. 6607</td>\n",
              "      <td>23.45</td>\n",
              "      <td>NaN</td>\n",
              "      <td>S</td>\n",
              "    </tr>\n",
              "    <tr>\n",
              "      <th>890</th>\n",
              "      <td>1</td>\n",
              "      <td>1</td>\n",
              "      <td>Behr, Mr. Karl Howell</td>\n",
              "      <td>male</td>\n",
              "      <td>26.0</td>\n",
              "      <td>0</td>\n",
              "      <td>0</td>\n",
              "      <td>111369</td>\n",
              "      <td>30.00</td>\n",
              "      <td>C148</td>\n",
              "      <td>C</td>\n",
              "    </tr>\n",
              "    <tr>\n",
              "      <th>891</th>\n",
              "      <td>0</td>\n",
              "      <td>3</td>\n",
              "      <td>Dooley, Mr. Patrick</td>\n",
              "      <td>male</td>\n",
              "      <td>32.0</td>\n",
              "      <td>0</td>\n",
              "      <td>0</td>\n",
              "      <td>370376</td>\n",
              "      <td>7.75</td>\n",
              "      <td>NaN</td>\n",
              "      <td>Q</td>\n",
              "    </tr>\n",
              "  </tbody>\n",
              "</table>\n",
              "</div>"
            ],
            "text/plain": [
              "             Survived  Pclass  ... Cabin Embarked\n",
              "PassengerId                    ...               \n",
              "887                 0       2  ...   NaN        S\n",
              "888                 1       1  ...   B42        S\n",
              "889                 0       3  ...   NaN        S\n",
              "890                 1       1  ...  C148        C\n",
              "891                 0       3  ...   NaN        Q\n",
              "\n",
              "[5 rows x 11 columns]"
            ]
          },
          "metadata": {
            "tags": []
          },
          "execution_count": 8
        }
      ]
    },
    {
      "cell_type": "code",
      "metadata": {
        "id": "mkMJCyGqQ5yz",
        "colab_type": "code",
        "colab": {
          "base_uri": "https://localhost:8080/",
          "height": 230
        },
        "outputId": "10bd95cd-2156-469b-f754-d0f770778f63"
      },
      "source": [
        "#previewing the bottom of test dataset\n",
        "test.tail()"
      ],
      "execution_count": null,
      "outputs": [
        {
          "output_type": "execute_result",
          "data": {
            "text/html": [
              "<div>\n",
              "<style scoped>\n",
              "    .dataframe tbody tr th:only-of-type {\n",
              "        vertical-align: middle;\n",
              "    }\n",
              "\n",
              "    .dataframe tbody tr th {\n",
              "        vertical-align: top;\n",
              "    }\n",
              "\n",
              "    .dataframe thead th {\n",
              "        text-align: right;\n",
              "    }\n",
              "</style>\n",
              "<table border=\"1\" class=\"dataframe\">\n",
              "  <thead>\n",
              "    <tr style=\"text-align: right;\">\n",
              "      <th></th>\n",
              "      <th>Pclass</th>\n",
              "      <th>Name</th>\n",
              "      <th>Sex</th>\n",
              "      <th>Age</th>\n",
              "      <th>SibSp</th>\n",
              "      <th>Parch</th>\n",
              "      <th>Ticket</th>\n",
              "      <th>Fare</th>\n",
              "      <th>Cabin</th>\n",
              "      <th>Embarked</th>\n",
              "    </tr>\n",
              "    <tr>\n",
              "      <th>PassengerId</th>\n",
              "      <th></th>\n",
              "      <th></th>\n",
              "      <th></th>\n",
              "      <th></th>\n",
              "      <th></th>\n",
              "      <th></th>\n",
              "      <th></th>\n",
              "      <th></th>\n",
              "      <th></th>\n",
              "      <th></th>\n",
              "    </tr>\n",
              "  </thead>\n",
              "  <tbody>\n",
              "    <tr>\n",
              "      <th>1305</th>\n",
              "      <td>3</td>\n",
              "      <td>Spector, Mr. Woolf</td>\n",
              "      <td>male</td>\n",
              "      <td>NaN</td>\n",
              "      <td>0</td>\n",
              "      <td>0</td>\n",
              "      <td>A.5. 3236</td>\n",
              "      <td>8.0500</td>\n",
              "      <td>NaN</td>\n",
              "      <td>S</td>\n",
              "    </tr>\n",
              "    <tr>\n",
              "      <th>1306</th>\n",
              "      <td>1</td>\n",
              "      <td>Oliva y Ocana, Dona. Fermina</td>\n",
              "      <td>female</td>\n",
              "      <td>39.0</td>\n",
              "      <td>0</td>\n",
              "      <td>0</td>\n",
              "      <td>PC 17758</td>\n",
              "      <td>108.9000</td>\n",
              "      <td>C105</td>\n",
              "      <td>C</td>\n",
              "    </tr>\n",
              "    <tr>\n",
              "      <th>1307</th>\n",
              "      <td>3</td>\n",
              "      <td>Saether, Mr. Simon Sivertsen</td>\n",
              "      <td>male</td>\n",
              "      <td>38.5</td>\n",
              "      <td>0</td>\n",
              "      <td>0</td>\n",
              "      <td>SOTON/O.Q. 3101262</td>\n",
              "      <td>7.2500</td>\n",
              "      <td>NaN</td>\n",
              "      <td>S</td>\n",
              "    </tr>\n",
              "    <tr>\n",
              "      <th>1308</th>\n",
              "      <td>3</td>\n",
              "      <td>Ware, Mr. Frederick</td>\n",
              "      <td>male</td>\n",
              "      <td>NaN</td>\n",
              "      <td>0</td>\n",
              "      <td>0</td>\n",
              "      <td>359309</td>\n",
              "      <td>8.0500</td>\n",
              "      <td>NaN</td>\n",
              "      <td>S</td>\n",
              "    </tr>\n",
              "    <tr>\n",
              "      <th>1309</th>\n",
              "      <td>3</td>\n",
              "      <td>Peter, Master. Michael J</td>\n",
              "      <td>male</td>\n",
              "      <td>NaN</td>\n",
              "      <td>1</td>\n",
              "      <td>1</td>\n",
              "      <td>2668</td>\n",
              "      <td>22.3583</td>\n",
              "      <td>NaN</td>\n",
              "      <td>C</td>\n",
              "    </tr>\n",
              "  </tbody>\n",
              "</table>\n",
              "</div>"
            ],
            "text/plain": [
              "             Pclass                          Name  ... Cabin  Embarked\n",
              "PassengerId                                        ...                \n",
              "1305              3            Spector, Mr. Woolf  ...   NaN         S\n",
              "1306              1  Oliva y Ocana, Dona. Fermina  ...  C105         C\n",
              "1307              3  Saether, Mr. Simon Sivertsen  ...   NaN         S\n",
              "1308              3           Ware, Mr. Frederick  ...   NaN         S\n",
              "1309              3      Peter, Master. Michael J  ...   NaN         C\n",
              "\n",
              "[5 rows x 10 columns]"
            ]
          },
          "metadata": {
            "tags": []
          },
          "execution_count": 9
        }
      ]
    },
    {
      "cell_type": "code",
      "metadata": {
        "id": "n8-dW4sQWzbc",
        "colab_type": "code",
        "colab": {
          "base_uri": "https://localhost:8080/",
          "height": 710
        },
        "outputId": "4cc1e75f-95c4-456a-f49a-262d7326def4"
      },
      "source": [
        "# Checking whether each column has an appropriate datatype\n",
        "#\n",
        "print(train.info())\n",
        "print('\\n')\n",
        "print(test.info())\n"
      ],
      "execution_count": 6,
      "outputs": [
        {
          "output_type": "stream",
          "text": [
            "<class 'pandas.core.frame.DataFrame'>\n",
            "Int64Index: 891 entries, 1 to 891\n",
            "Data columns (total 11 columns):\n",
            " #   Column    Non-Null Count  Dtype  \n",
            "---  ------    --------------  -----  \n",
            " 0   Survived  891 non-null    int64  \n",
            " 1   Pclass    891 non-null    int64  \n",
            " 2   Name      891 non-null    object \n",
            " 3   Sex       891 non-null    object \n",
            " 4   Age       714 non-null    float64\n",
            " 5   SibSp     891 non-null    int64  \n",
            " 6   Parch     891 non-null    int64  \n",
            " 7   Ticket    891 non-null    object \n",
            " 8   Fare      891 non-null    float64\n",
            " 9   Cabin     204 non-null    object \n",
            " 10  Embarked  889 non-null    object \n",
            "dtypes: float64(2), int64(4), object(5)\n",
            "memory usage: 83.5+ KB\n",
            "None\n",
            "\n",
            "\n",
            "<class 'pandas.core.frame.DataFrame'>\n",
            "Int64Index: 418 entries, 892 to 1309\n",
            "Data columns (total 10 columns):\n",
            " #   Column    Non-Null Count  Dtype  \n",
            "---  ------    --------------  -----  \n",
            " 0   Pclass    418 non-null    int64  \n",
            " 1   Name      418 non-null    object \n",
            " 2   Sex       418 non-null    object \n",
            " 3   Age       332 non-null    float64\n",
            " 4   SibSp     418 non-null    int64  \n",
            " 5   Parch     418 non-null    int64  \n",
            " 6   Ticket    418 non-null    object \n",
            " 7   Fare      417 non-null    float64\n",
            " 8   Cabin     91 non-null     object \n",
            " 9   Embarked  418 non-null    object \n",
            "dtypes: float64(2), int64(3), object(5)\n",
            "memory usage: 35.9+ KB\n",
            "None\n"
          ],
          "name": "stdout"
        }
      ]
    },
    {
      "cell_type": "code",
      "metadata": {
        "id": "dD6QKogARzTp",
        "colab_type": "code",
        "colab": {
          "base_uri": "https://localhost:8080/",
          "height": 159
        },
        "outputId": "d36c286c-e1c1-438c-aae8-ba8a75fd2d4e"
      },
      "source": [
        "# checking the columns\n",
        "print(train.columns)\n",
        "print('\\n')\n",
        "print(test.columns)"
      ],
      "execution_count": null,
      "outputs": [
        {
          "output_type": "stream",
          "text": [
            "Index(['Survived', 'Pclass', 'Name', 'Sex', 'Age', 'SibSp', 'Parch', 'Ticket',\n",
            "       'Fare', 'Cabin', 'Embarked'],\n",
            "      dtype='object')\n",
            "\n",
            "\n",
            "Index(['Pclass', 'Name', 'Sex', 'Age', 'SibSp', 'Parch', 'Ticket', 'Fare',\n",
            "       'Cabin', 'Embarked'],\n",
            "      dtype='object')\n"
          ],
          "name": "stdout"
        }
      ]
    },
    {
      "cell_type": "markdown",
      "metadata": {
        "id": "uvCCDkwzTtvr",
        "colab_type": "text"
      },
      "source": [
        "The train dataset has an extra column Survived, one that is not on the test dataset."
      ]
    },
    {
      "cell_type": "code",
      "metadata": {
        "id": "p4fxUOCFTsqK",
        "colab_type": "code",
        "colab": {
          "base_uri": "https://localhost:8080/",
          "height": 382
        },
        "outputId": "5b315675-12b3-4e3b-b878-97f07f2f0c5e"
      },
      "source": [
        "train_unique = train.nunique().to_frame().reset_index()\n",
        "train_unique.columns = ['Variable','DistinctCount']\n",
        "train_unique"
      ],
      "execution_count": 7,
      "outputs": [
        {
          "output_type": "execute_result",
          "data": {
            "text/html": [
              "<div>\n",
              "<style scoped>\n",
              "    .dataframe tbody tr th:only-of-type {\n",
              "        vertical-align: middle;\n",
              "    }\n",
              "\n",
              "    .dataframe tbody tr th {\n",
              "        vertical-align: top;\n",
              "    }\n",
              "\n",
              "    .dataframe thead th {\n",
              "        text-align: right;\n",
              "    }\n",
              "</style>\n",
              "<table border=\"1\" class=\"dataframe\">\n",
              "  <thead>\n",
              "    <tr style=\"text-align: right;\">\n",
              "      <th></th>\n",
              "      <th>Variable</th>\n",
              "      <th>DistinctCount</th>\n",
              "    </tr>\n",
              "  </thead>\n",
              "  <tbody>\n",
              "    <tr>\n",
              "      <th>0</th>\n",
              "      <td>Survived</td>\n",
              "      <td>2</td>\n",
              "    </tr>\n",
              "    <tr>\n",
              "      <th>1</th>\n",
              "      <td>Pclass</td>\n",
              "      <td>3</td>\n",
              "    </tr>\n",
              "    <tr>\n",
              "      <th>2</th>\n",
              "      <td>Name</td>\n",
              "      <td>891</td>\n",
              "    </tr>\n",
              "    <tr>\n",
              "      <th>3</th>\n",
              "      <td>Sex</td>\n",
              "      <td>2</td>\n",
              "    </tr>\n",
              "    <tr>\n",
              "      <th>4</th>\n",
              "      <td>Age</td>\n",
              "      <td>88</td>\n",
              "    </tr>\n",
              "    <tr>\n",
              "      <th>5</th>\n",
              "      <td>SibSp</td>\n",
              "      <td>7</td>\n",
              "    </tr>\n",
              "    <tr>\n",
              "      <th>6</th>\n",
              "      <td>Parch</td>\n",
              "      <td>7</td>\n",
              "    </tr>\n",
              "    <tr>\n",
              "      <th>7</th>\n",
              "      <td>Ticket</td>\n",
              "      <td>681</td>\n",
              "    </tr>\n",
              "    <tr>\n",
              "      <th>8</th>\n",
              "      <td>Fare</td>\n",
              "      <td>248</td>\n",
              "    </tr>\n",
              "    <tr>\n",
              "      <th>9</th>\n",
              "      <td>Cabin</td>\n",
              "      <td>147</td>\n",
              "    </tr>\n",
              "    <tr>\n",
              "      <th>10</th>\n",
              "      <td>Embarked</td>\n",
              "      <td>3</td>\n",
              "    </tr>\n",
              "  </tbody>\n",
              "</table>\n",
              "</div>"
            ],
            "text/plain": [
              "    Variable  DistinctCount\n",
              "0   Survived              2\n",
              "1     Pclass              3\n",
              "2       Name            891\n",
              "3        Sex              2\n",
              "4        Age             88\n",
              "5      SibSp              7\n",
              "6      Parch              7\n",
              "7     Ticket            681\n",
              "8       Fare            248\n",
              "9      Cabin            147\n",
              "10  Embarked              3"
            ]
          },
          "metadata": {
            "tags": []
          },
          "execution_count": 7
        }
      ]
    },
    {
      "cell_type": "markdown",
      "metadata": {
        "id": "0kDTHSsbT9ai",
        "colab_type": "text"
      },
      "source": [
        "Having a look at all the number of unique entries in each column. "
      ]
    },
    {
      "cell_type": "code",
      "metadata": {
        "id": "ZMttTw2ZT65O",
        "colab_type": "code",
        "colab": {
          "base_uri": "https://localhost:8080/",
          "height": 352
        },
        "outputId": "a98fdcc0-d812-41df-ab8c-e73237c57257"
      },
      "source": [
        "test_unique = test.nunique().to_frame().reset_index()\n",
        "test_unique.columns = ['Variable','DistinctCount']\n",
        "test_unique"
      ],
      "execution_count": null,
      "outputs": [
        {
          "output_type": "execute_result",
          "data": {
            "text/html": [
              "<div>\n",
              "<style scoped>\n",
              "    .dataframe tbody tr th:only-of-type {\n",
              "        vertical-align: middle;\n",
              "    }\n",
              "\n",
              "    .dataframe tbody tr th {\n",
              "        vertical-align: top;\n",
              "    }\n",
              "\n",
              "    .dataframe thead th {\n",
              "        text-align: right;\n",
              "    }\n",
              "</style>\n",
              "<table border=\"1\" class=\"dataframe\">\n",
              "  <thead>\n",
              "    <tr style=\"text-align: right;\">\n",
              "      <th></th>\n",
              "      <th>Variable</th>\n",
              "      <th>DistinctCount</th>\n",
              "    </tr>\n",
              "  </thead>\n",
              "  <tbody>\n",
              "    <tr>\n",
              "      <th>0</th>\n",
              "      <td>Pclass</td>\n",
              "      <td>3</td>\n",
              "    </tr>\n",
              "    <tr>\n",
              "      <th>1</th>\n",
              "      <td>Name</td>\n",
              "      <td>418</td>\n",
              "    </tr>\n",
              "    <tr>\n",
              "      <th>2</th>\n",
              "      <td>Sex</td>\n",
              "      <td>2</td>\n",
              "    </tr>\n",
              "    <tr>\n",
              "      <th>3</th>\n",
              "      <td>Age</td>\n",
              "      <td>79</td>\n",
              "    </tr>\n",
              "    <tr>\n",
              "      <th>4</th>\n",
              "      <td>SibSp</td>\n",
              "      <td>7</td>\n",
              "    </tr>\n",
              "    <tr>\n",
              "      <th>5</th>\n",
              "      <td>Parch</td>\n",
              "      <td>8</td>\n",
              "    </tr>\n",
              "    <tr>\n",
              "      <th>6</th>\n",
              "      <td>Ticket</td>\n",
              "      <td>363</td>\n",
              "    </tr>\n",
              "    <tr>\n",
              "      <th>7</th>\n",
              "      <td>Fare</td>\n",
              "      <td>169</td>\n",
              "    </tr>\n",
              "    <tr>\n",
              "      <th>8</th>\n",
              "      <td>Cabin</td>\n",
              "      <td>76</td>\n",
              "    </tr>\n",
              "    <tr>\n",
              "      <th>9</th>\n",
              "      <td>Embarked</td>\n",
              "      <td>3</td>\n",
              "    </tr>\n",
              "  </tbody>\n",
              "</table>\n",
              "</div>"
            ],
            "text/plain": [
              "   Variable  DistinctCount\n",
              "0    Pclass              3\n",
              "1      Name            418\n",
              "2       Sex              2\n",
              "3       Age             79\n",
              "4     SibSp              7\n",
              "5     Parch              8\n",
              "6    Ticket            363\n",
              "7      Fare            169\n",
              "8     Cabin             76\n",
              "9  Embarked              3"
            ]
          },
          "metadata": {
            "tags": []
          },
          "execution_count": 13
        }
      ]
    },
    {
      "cell_type": "code",
      "metadata": {
        "id": "28gzzP6uUQLy",
        "colab_type": "code",
        "colab": {
          "base_uri": "https://localhost:8080/",
          "height": 88
        },
        "outputId": "1f3ac81b-252d-49b7-944c-560e605891a6"
      },
      "source": [
        "#checking for duplicated values\n",
        "print(train.duplicated().sum())\n",
        "print('\\n')\n",
        "print(test.duplicated().sum())"
      ],
      "execution_count": 8,
      "outputs": [
        {
          "output_type": "stream",
          "text": [
            "0\n",
            "\n",
            "\n",
            "0\n"
          ],
          "name": "stdout"
        }
      ]
    },
    {
      "cell_type": "markdown",
      "metadata": {
        "id": "nG_ZChSLUPBm",
        "colab_type": "text"
      },
      "source": [
        "Both datasets have no duplicates"
      ]
    },
    {
      "cell_type": "markdown",
      "metadata": {
        "id": "ckfufNrcUHeH",
        "colab_type": "text"
      },
      "source": [
        "## 4. External Data Source Validation\n",
        "\n",
        "This is a valid datasets and contains data from the actual titanic tragedy and has been used for various research purposes.More information can be found here.\n",
        ". [Link](https://www.kaggle.com/c/titanic)."
      ]
    },
    {
      "cell_type": "markdown",
      "metadata": {
        "id": "FlBMxEDBUc9B",
        "colab_type": "text"
      },
      "source": [
        "## 5. Tidying the Dataset"
      ]
    },
    {
      "cell_type": "code",
      "metadata": {
        "id": "5o_bQcT5W3Wz",
        "colab_type": "code",
        "colab": {
          "base_uri": "https://localhost:8080/",
          "height": 1000
        },
        "outputId": "ecdbd00a-fde2-42df-8a77-48414a5bf5c2"
      },
      "source": [
        "# Checking for Outliers\n",
        "\n",
        "cols = ['Pclass','Age','SibSp','Fare', 'Parch', 'Survived']\n",
        "\n",
        "#fig, ax = plt.subplots(len(cols), figsize = (15, 40))\n",
        "\n",
        "for col in cols:\n",
        "  plt.figure()\n",
        "  sns.boxplot(x=col, data=train)\n",
        "\n",
        "  "
      ],
      "execution_count": null,
      "outputs": [
        {
          "output_type": "display_data",
          "data": {
            "image/png": "[encoded data removed]",
            "text/plain": [
              "<Figure size 432x288 with 1 Axes>"
            ]
          },
          "metadata": {
            "tags": [],
            "needs_background": "light"
          }
        },
        {
          "output_type": "display_data",
          "data": {
            "image/png": "[encoded data removed]",
            "text/plain": [
              "<Figure size 432x288 with 1 Axes>"
            ]
          },
          "metadata": {
            "tags": [],
            "needs_background": "light"
          }
        },
        {
          "output_type": "display_data",
          "data": {
            "image/png": "[encoded data removed]",
            "text/plain": [
              "<Figure size 432x288 with 1 Axes>"
            ]
          },
          "metadata": {
            "tags": [],
            "needs_background": "light"
          }
        },
        {
          "output_type": "display_data",
          "data": {
            "image/png": "[encoded data removed]",
            "text/plain": [
              "<Figure size 432x288 with 1 Axes>"
            ]
          },
          "metadata": {
            "tags": [],
            "needs_background": "light"
          }
        },
        {
          "output_type": "display_data",
          "data": {
            "image/png": "[encoded data removed]",
            "text/plain": [
              "<Figure size 432x288 with 1 Axes>"
            ]
          },
          "metadata": {
            "tags": [],
            "needs_background": "light"
          }
        },
        {
          "output_type": "display_data",
          "data": {
            "image/png": "[encoded data removed]",
            "text/plain": [
              "<Figure size 432x288 with 1 Axes>"
            ]
          },
          "metadata": {
            "tags": [],
            "needs_background": "light"
          }
        }
      ]
    },
    {
      "cell_type": "markdown",
      "metadata": {
        "id": "aqUSRwuPtOQP",
        "colab_type": "text"
      },
      "source": [
        "The plots above show that there are outliers in each column except the Survived column and this makes sense since it is mainly 1 and 0 .\n",
        "I will not drop any outlier since this is a predictive model."
      ]
    },
    {
      "cell_type": "code",
      "metadata": {
        "id": "PvCYb6dgW4yh",
        "colab_type": "code",
        "colab": {
          "base_uri": "https://localhost:8080/",
          "height": 461
        },
        "outputId": "8e3697d5-feae-4787-a82b-91450f15bf78"
      },
      "source": [
        "# Identifying the Missing Data\n",
        "#\n",
        "print(train.isnull().sum())\n",
        "print('\\n')\n",
        "print(test.isnull().sum())"
      ],
      "execution_count": null,
      "outputs": [
        {
          "output_type": "stream",
          "text": [
            "Survived      0\n",
            "Pclass        0\n",
            "Name          0\n",
            "Sex           0\n",
            "Age         177\n",
            "SibSp         0\n",
            "Parch         0\n",
            "Ticket        0\n",
            "Fare          0\n",
            "Cabin       687\n",
            "Embarked      2\n",
            "dtype: int64\n",
            "\n",
            "\n",
            "Pclass        0\n",
            "Name          0\n",
            "Sex           0\n",
            "Age          86\n",
            "SibSp         0\n",
            "Parch         0\n",
            "Ticket        0\n",
            "Fare          1\n",
            "Cabin       327\n",
            "Embarked      0\n",
            "dtype: int64\n"
          ],
          "name": "stdout"
        }
      ]
    },
    {
      "cell_type": "code",
      "metadata": {
        "id": "MpsDGKZHsf_W",
        "colab_type": "code",
        "colab": {}
      },
      "source": [
        "# Dealing with the Missing Data\n",
        "#\n",
        "#For the age column i will fill missing values with the median column\n",
        "#train = train.fillna(train.Age.median())\n",
        "#test = test.fillna(test.Age.meadian())\n",
        "train[\"Age\"].fillna(train[\"Age\"].median(), inplace = True)\n",
        "test[\"Age\"].fillna(test[\"Age\"].median(), inplace = True) "
      ],
      "execution_count": 9,
      "outputs": []
    },
    {
      "cell_type": "markdown",
      "metadata": {
        "id": "6_GhovX7gEth",
        "colab_type": "text"
      },
      "source": [
        "This will fill the missing values in age column with mean age of passengers in both the datasets.The  median age is more suitable than mean."
      ]
    },
    {
      "cell_type": "code",
      "metadata": {
        "id": "D-4I__6Os4C5",
        "colab_type": "code",
        "colab": {}
      },
      "source": [
        "# More data cleaning procedures\n",
        "#Let me drop these columns which are not necessary in determining whether a person survived or not\n",
        "#\n",
        "train.drop(columns = ['Name', 'Ticket', 'Cabin'], axis = 1, inplace = True)\n",
        "test.drop(columns = ['Name', 'Ticket', 'Cabin'], axis = 1, inplace = True)"
      ],
      "execution_count": 10,
      "outputs": []
    },
    {
      "cell_type": "markdown",
      "metadata": {
        "id": "rF2ABPsHUtbZ",
        "colab_type": "text"
      },
      "source": [
        "## 6. Exploratory Analysis"
      ]
    },
    {
      "cell_type": "markdown",
      "metadata": {
        "id": "FUVG51jOZ1MY",
        "colab_type": "text"
      },
      "source": [
        "6.1Survival plots"
      ]
    },
    {
      "cell_type": "code",
      "metadata": {
        "id": "bneHj7zpUsTE",
        "colab_type": "code",
        "colab": {
          "base_uri": "https://localhost:8080/",
          "height": 70
        },
        "outputId": "0261673b-7afb-4c55-f355-f6f782de82dd"
      },
      "source": [
        "#Plotting the Univariate summaries\n",
        "train.Survived.value_counts()/len(train)*100"
      ],
      "execution_count": null,
      "outputs": [
        {
          "output_type": "execute_result",
          "data": {
            "text/plain": [
              "0    61.616162\n",
              "1    38.383838\n",
              "Name: Survived, dtype: float64"
            ]
          },
          "metadata": {
            "tags": []
          },
          "execution_count": 16
        }
      ]
    },
    {
      "cell_type": "code",
      "metadata": {
        "id": "A0_XpOOydJYl",
        "colab_type": "code",
        "colab": {
          "base_uri": "https://localhost:8080/",
          "height": 139
        },
        "outputId": "13b63735-54e9-4c98-8547-e11555389dfb"
      },
      "source": [
        "train.groupby('Sex').mean()"
      ],
      "execution_count": null,
      "outputs": [
        {
          "output_type": "execute_result",
          "data": {
            "text/html": [
              "<div>\n",
              "<style scoped>\n",
              "    .dataframe tbody tr th:only-of-type {\n",
              "        vertical-align: middle;\n",
              "    }\n",
              "\n",
              "    .dataframe tbody tr th {\n",
              "        vertical-align: top;\n",
              "    }\n",
              "\n",
              "    .dataframe thead th {\n",
              "        text-align: right;\n",
              "    }\n",
              "</style>\n",
              "<table border=\"1\" class=\"dataframe\">\n",
              "  <thead>\n",
              "    <tr style=\"text-align: right;\">\n",
              "      <th></th>\n",
              "      <th>Survived</th>\n",
              "      <th>Pclass</th>\n",
              "      <th>Age</th>\n",
              "      <th>SibSp</th>\n",
              "      <th>Parch</th>\n",
              "      <th>Fare</th>\n",
              "    </tr>\n",
              "    <tr>\n",
              "      <th>Sex</th>\n",
              "      <th></th>\n",
              "      <th></th>\n",
              "      <th></th>\n",
              "      <th></th>\n",
              "      <th></th>\n",
              "      <th></th>\n",
              "    </tr>\n",
              "  </thead>\n",
              "  <tbody>\n",
              "    <tr>\n",
              "      <th>female</th>\n",
              "      <td>0.742038</td>\n",
              "      <td>2.159236</td>\n",
              "      <td>28.216730</td>\n",
              "      <td>0.694268</td>\n",
              "      <td>0.649682</td>\n",
              "      <td>44.479818</td>\n",
              "    </tr>\n",
              "    <tr>\n",
              "      <th>male</th>\n",
              "      <td>0.188908</td>\n",
              "      <td>2.389948</td>\n",
              "      <td>30.505824</td>\n",
              "      <td>0.429809</td>\n",
              "      <td>0.235702</td>\n",
              "      <td>25.523893</td>\n",
              "    </tr>\n",
              "  </tbody>\n",
              "</table>\n",
              "</div>"
            ],
            "text/plain": [
              "        Survived    Pclass        Age     SibSp     Parch       Fare\n",
              "Sex                                                                 \n",
              "female  0.742038  2.159236  28.216730  0.694268  0.649682  44.479818\n",
              "male    0.188908  2.389948  30.505824  0.429809  0.235702  25.523893"
            ]
          },
          "metadata": {
            "tags": []
          },
          "execution_count": 17
        }
      ]
    },
    {
      "cell_type": "code",
      "metadata": {
        "id": "H6KmdEeUW8YL",
        "colab_type": "code",
        "colab": {
          "base_uri": "https://localhost:8080/",
          "height": 404
        },
        "outputId": "43fbcb9b-1f27-45a2-e953-4fd6d280b324"
      },
      "source": [
        "plt.figure(figsize=(14, 6))\n",
        "plt.subplot(1,2,1)\n",
        "cols = ['Green','Purple']\n",
        "\n",
        "train['Survived'].value_counts().plot.pie(explode=[0,0.1],autopct='%1.1f%%',shadow=True, colors=cols)\n",
        "plt.title('Survived')\n",
        "plt.subplot(1,2,2)\n",
        "sns.countplot('Survived',data=train,palette='magma')\n",
        "plt.title('Survived')\n",
        "plt.show()"
      ],
      "execution_count": null,
      "outputs": [
        {
          "output_type": "display_data",
          "data": {
            "image/png": "[encoded data removed]",
            "text/plain": [
              "<Figure size 1008x432 with 2 Axes>"
            ]
          },
          "metadata": {
            "tags": [],
            "needs_background": "light"
          }
        }
      ]
    },
    {
      "cell_type": "markdown",
      "metadata": {
        "id": "9K2sAY4AY0F0",
        "colab_type": "text"
      },
      "source": [
        "\n",
        "From the plots above it shows that most people on board the titanic did not survive.Out of 891 people that were on board, only 350 people survived.I have also verified this information by looking at the value counts of the survived column.It means 61% of the passengers did not survive and 38% survived."
      ]
    },
    {
      "cell_type": "markdown",
      "metadata": {
        "id": "fa1j6n4hZ9w8",
        "colab_type": "text"
      },
      "source": [
        "#6.2 Gender plots"
      ]
    },
    {
      "cell_type": "code",
      "metadata": {
        "id": "NV7xX_KwXOhp",
        "colab_type": "code",
        "colab": {
          "base_uri": "https://localhost:8080/",
          "height": 404
        },
        "outputId": "3a086c26-39d4-4a40-cabe-7f850e14f633"
      },
      "source": [
        "plt.figure(figsize=(14, 6))\n",
        "plt.subplot(1,2,1)\n",
        "col = ['Green', 'Purple']\n",
        "train['Sex'].value_counts().plot.pie(explode=[0,0.1],autopct='%1.1f%%',shadow=True, colors=col)\n",
        "plt.title(' Male/Female that boarderd')\n",
        "plt.subplot(1,2,2)\n",
        "sns.barplot(x=\"Sex\", y=\"Survived\", data=train,palette='magma')\n",
        "plt.title('Sex vs Survived')\n",
        "plt.ylabel(\"Survival Rate\")\n",
        "plt.show()\n"
      ],
      "execution_count": null,
      "outputs": [
        {
          "output_type": "display_data",
          "data": {
            "image/png": "[encoded data removed]",
            "text/plain": [
              "<Figure size 1008x432 with 2 Axes>"
            ]
          },
          "metadata": {
            "tags": [],
            "needs_background": "light"
          }
        }
      ]
    },
    {
      "cell_type": "markdown",
      "metadata": {
        "id": "7H7NcWOBaQWQ",
        "colab_type": "text"
      },
      "source": [
        "From the plots shown, it seems that more women survived and also from the pie chart it shows that more men were on board which was 64% and women at 35%."
      ]
    },
    {
      "cell_type": "code",
      "metadata": {
        "id": "_8dx00Fhc5i_",
        "colab_type": "code",
        "colab": {
          "base_uri": "https://localhost:8080/",
          "height": 527
        },
        "outputId": "52c72620-707f-4195-f555-bb8efe245c3b"
      },
      "source": [
        "plt.subplots(figsize = (15,8))\n",
        "ax=sns.countplot(x='Sex',data=train,hue='Survived',edgecolor=(0,0,0),linewidth=2)\n",
        "train.shape\n",
        "## Fixing title, xlabel and ylabel\n",
        "plt.title('Passenger distribution of survived vs not-survived',fontsize=25)\n",
        "plt.xlabel('Gender',fontsize=15)\n",
        "plt.ylabel(\"# of Passenger Survived\", fontsize = 15)\n",
        "labels = ['Female', 'Male']\n",
        "#"
      ],
      "execution_count": null,
      "outputs": [
        {
          "output_type": "display_data",
          "data": {
            "image/png": "[encoded data removed]",
            "text/plain": [
              "<Figure size 1080x576 with 1 Axes>"
            ]
          },
          "metadata": {
            "tags": [],
            "needs_background": "light"
          }
        }
      ]
    },
    {
      "cell_type": "markdown",
      "metadata": {
        "id": "x918o1B6LopD",
        "colab_type": "text"
      },
      "source": [
        "From this plot in terms of gender, more male died compared to female.\n",
        "This count plot shows the actual distribution of male and female passengers that survived and did not survive. It shows that among all the females ~ 230 survived and ~ 70 did not survive. While among male passengers ~110 survived and ~480 did not survive."
      ]
    },
    {
      "cell_type": "code",
      "metadata": {
        "id": "oN18t0G7dBcs",
        "colab_type": "code",
        "colab": {
          "base_uri": "https://localhost:8080/",
          "height": 630
        },
        "outputId": "18d3e8a4-46c0-4bc1-cef8-d32e3c2ca0a4"
      },
      "source": [
        "#A plot of survival in the pclass column\n",
        "plt.subplots(figsize = (10,10))\n",
        "ax=sns.countplot(x='Pclass',hue='Survived',data=train)\n",
        "plt.title(\"Passenger Class Distribution - Survived vs Non-Survived\", fontsize = 25)\n",
        "leg=ax.get_legend()\n",
        "leg.set_title('Survival')\n",
        "legs=leg.texts\n",
        "\n",
        "legs[0].set_text('No')\n",
        "legs[1].set_text(\"yes\")"
      ],
      "execution_count": null,
      "outputs": [
        {
          "output_type": "display_data",
          "data": {
            "image/png": "[encoded data removed]",
            "text/plain": [
              "<Figure size 720x720 with 1 Axes>"
            ]
          },
          "metadata": {
            "tags": [],
            "needs_background": "light"
          }
        }
      ]
    },
    {
      "cell_type": "markdown",
      "metadata": {
        "id": "kP_u476bKi_n",
        "colab_type": "text"
      },
      "source": [
        "In the 1st class more passengers survived from the count plot, in the 2nd class more people died that were in this class compared to those who survived. In the pClass 3 the highest number of passengers died as shown in the bar plot with blue color representing deceased people(did not survive)"
      ]
    },
    {
      "cell_type": "code",
      "metadata": {
        "id": "USY_NK0gitBe",
        "colab_type": "code",
        "colab": {
          "base_uri": "https://localhost:8080/",
          "height": 1000
        },
        "outputId": "24b595a3-7166-4ddb-b889-2846a539d8a8"
      },
      "source": [
        "# get the numerical data \n",
        "\n",
        "cols = ['Pclass','Age','Fare', 'Parch', 'Survived', 'SibSp']\n",
        "# loop to plot our distribution plots for our numerical data\n",
        "for i in np.arange(0, 6, 1):\n",
        "  plt.figure(figsize = (15, 5))\n",
        "  sns.distplot(train[cols[i]])\n",
        "  plt.title(f'Distribution of {cols[i]} ', fontsize = 14, color = \"green\")\n",
        "  plt.xlabel(cols[i], fontsize = 18, color = 'red')\n",
        "  plt.ylabel('Frequency', fontsize = 13, color = 'red')"
      ],
      "execution_count": 47,
      "outputs": [
        {
          "output_type": "display_data",
          "data": {
            "image/png": "[encoded data removed]",
            "text/plain": [
              "<Figure size 1080x360 with 1 Axes>"
            ]
          },
          "metadata": {
            "tags": [],
            "needs_background": "light"
          }
        },
        {
          "output_type": "display_data",
          "data": {
            "image/png": "[encoded data removed]",
            "text/plain": [
              "<Figure size 1080x360 with 1 Axes>"
            ]
          },
          "metadata": {
            "tags": [],
            "needs_background": "light"
          }
        },
        {
          "output_type": "display_data",
          "data": {
            "image/png": "[encoded data removed]",
            "text/plain": [
              "<Figure size 1080x360 with 1 Axes>"
            ]
          },
          "metadata": {
            "tags": [],
            "needs_background": "light"
          }
        },
        {
          "output_type": "display_data",
          "data": {
            "image/png": "[encoded data removed]",
            "text/plain": [
              "<Figure size 1080x360 with 1 Axes>"
            ]
          },
          "metadata": {
            "tags": [],
            "needs_background": "light"
          }
        },
        {
          "output_type": "display_data",
          "data": {
            "image/png": "[encoded data removed]",
            "text/plain": [
              "<Figure size 1080x360 with 1 Axes>"
            ]
          },
          "metadata": {
            "tags": [],
            "needs_background": "light"
          }
        },
        {
          "output_type": "display_data",
          "data": {
            "image/png": "[encoded data removed]",
            "text/plain": [
              "<Figure size 1080x360 with 1 Axes>"
            ]
          },
          "metadata": {
            "tags": [],
            "needs_background": "light"
          }
        }
      ]
    },
    {
      "cell_type": "markdown",
      "metadata": {
        "id": "KvD9yxnsIXNF",
        "colab_type": "text"
      },
      "source": [
        "We observe tha fare is skewed to the right,usually would be due to outliers. the  have a more bell shaped curve with tails on both ends. We need now to find the skewness of the data. \n",
        "Sibsp and Survived column are bimodal"
      ]
    },
    {
      "cell_type": "code",
      "metadata": {
        "id": "ynz9HnZIJKsr",
        "colab_type": "code",
        "colab": {
          "base_uri": "https://localhost:8080/",
          "height": 195
        },
        "outputId": "3a8a0c3f-f8d1-4960-ac1a-42023ac7f0d3"
      },
      "source": [
        "# get the skewness of our data \n",
        "print(train.skew())"
      ],
      "execution_count": 55,
      "outputs": [
        {
          "output_type": "stream",
          "text": [
            "Survived      0.478523\n",
            "Pclass       -0.630548\n",
            "Age           0.510245\n",
            "SibSp         3.695352\n",
            "Parch         2.749117\n",
            "Fare          4.787317\n",
            "Embarked_Q    2.948778\n",
            "Embarked_S   -0.997083\n",
            "Sex_male     -0.618921\n",
            "dtype: float64\n"
          ],
          "name": "stdout"
        }
      ]
    },
    {
      "cell_type": "markdown",
      "metadata": {
        "id": "Nq6CRh7sJ3VC",
        "colab_type": "text"
      },
      "source": [
        "We observe that our data is skewed to the right. This means that the median and mode is greater than the mean. "
      ]
    },
    {
      "cell_type": "code",
      "metadata": {
        "id": "5nnRToniXGDK",
        "colab_type": "code",
        "colab": {
          "base_uri": "https://localhost:8080/",
          "height": 1000
        },
        "outputId": "598a3c93-b8a4-4dcc-826b-24e0050dfcd0"
      },
      "source": [
        "# Ploting the bivariate summaries and recording our observations\n",
        "#\n",
        "# get the numerical data \n",
        "\n",
        "column = ['Pclass','Age','SibSp','Fare', 'Parch', 'Survived']\n",
        "sns.pairplot(train)\n",
        "plt.show()"
      ],
      "execution_count": null,
      "outputs": [
        {
          "output_type": "display_data",
          "data": {
            "image/png": "[encoded data removed]",
            "text/plain": [
              "<Figure size 1080x1080 with 42 Axes>"
            ]
          },
          "metadata": {
            "tags": [],
            "needs_background": "light"
          }
        }
      ]
    },
    {
      "cell_type": "markdown",
      "metadata": {
        "id": "eD859KNKkan2",
        "colab_type": "text"
      },
      "source": [
        "In the survived plot, there are 2 bars displaying whether a person lived or died.Majority died that is why one bar is higher than the other.The plot for pclass shows three bars which represent 3 distinct entries, 1,2,3 class.Age scatter plot is positively skewed which shows that all entries in age column are positive.It also means that inthe age column there are outliers.\n",
        "The scatter plot for age vs pclass is not linear and means that there is no direct linear relationship between the 2 columns."
      ]
    },
    {
      "cell_type": "code",
      "metadata": {
        "id": "a7TWtSc3DZBj",
        "colab_type": "code",
        "colab": {
          "base_uri": "https://localhost:8080/",
          "height": 1000
        },
        "outputId": "d9379209-aa1d-4048-b2b7-5f6fd83e6cb9"
      },
      "source": [
        "#This  relates the survived column with other independent variables.\n",
        "columns = [ 'Survived','Pclass', 'Sex', 'Age', 'SibSp', 'Parch',\n",
        "       'Fare', 'Embarked']\n",
        "\n",
        "fig, ax = plt.subplots(4, 2, figsize=(10, 20))\n",
        "\n",
        "for var, subplot in zip(columns, ax.flatten()):\n",
        "    sns.boxplot(x='Survived', y=var, data=train, ax=subplot)"
      ],
      "execution_count": 21,
      "outputs": [
        {
          "output_type": "display_data",
          "data": {
            "image/png": "[encoded data removed]",
            "text/plain": [
              "<Figure size 720x1440 with 8 Axes>"
            ]
          },
          "metadata": {
            "tags": [],
            "needs_background": "light"
          }
        }
      ]
    },
    {
      "cell_type": "markdown",
      "metadata": {
        "id": "2fqyN1_CD3R2",
        "colab_type": "text"
      },
      "source": [
        "The embarked column shows that the port of embarking doesnt really give any weight to a passengers survival rate.Looking at the plot for fare and survived,there are outliers and it seems the passengers who paid more money for their ticket were more likely to survive.It is not a strong relationship however."
      ]
    },
    {
      "cell_type": "markdown",
      "metadata": {
        "id": "9g26dyyrsMOR",
        "colab_type": "text"
      },
      "source": [
        "#Checking for multicolinearity"
      ]
    },
    {
      "cell_type": "code",
      "metadata": {
        "id": "cWSLo23Owl5D",
        "colab_type": "code",
        "colab": {
          "base_uri": "https://localhost:8080/",
          "height": 230
        },
        "outputId": "ec01e73f-751e-4835-d7a5-9d268d6ae6e9"
      },
      "source": [
        "# get the correlation\n",
        "correlation = train.corr()\n",
        "correlation\n",
        "#correlation2 =test.corr()\n",
        "#correlation2"
      ],
      "execution_count": 24,
      "outputs": [
        {
          "output_type": "execute_result",
          "data": {
            "text/html": [
              "<div>\n",
              "<style scoped>\n",
              "    .dataframe tbody tr th:only-of-type {\n",
              "        vertical-align: middle;\n",
              "    }\n",
              "\n",
              "    .dataframe tbody tr th {\n",
              "        vertical-align: top;\n",
              "    }\n",
              "\n",
              "    .dataframe thead th {\n",
              "        text-align: right;\n",
              "    }\n",
              "</style>\n",
              "<table border=\"1\" class=\"dataframe\">\n",
              "  <thead>\n",
              "    <tr style=\"text-align: right;\">\n",
              "      <th></th>\n",
              "      <th>Survived</th>\n",
              "      <th>Pclass</th>\n",
              "      <th>Age</th>\n",
              "      <th>SibSp</th>\n",
              "      <th>Parch</th>\n",
              "      <th>Fare</th>\n",
              "    </tr>\n",
              "  </thead>\n",
              "  <tbody>\n",
              "    <tr>\n",
              "      <th>Survived</th>\n",
              "      <td>1.000000</td>\n",
              "      <td>-0.338481</td>\n",
              "      <td>-0.064910</td>\n",
              "      <td>-0.035322</td>\n",
              "      <td>0.081629</td>\n",
              "      <td>0.257307</td>\n",
              "    </tr>\n",
              "    <tr>\n",
              "      <th>Pclass</th>\n",
              "      <td>-0.338481</td>\n",
              "      <td>1.000000</td>\n",
              "      <td>-0.339898</td>\n",
              "      <td>0.083081</td>\n",
              "      <td>0.018443</td>\n",
              "      <td>-0.549500</td>\n",
              "    </tr>\n",
              "    <tr>\n",
              "      <th>Age</th>\n",
              "      <td>-0.064910</td>\n",
              "      <td>-0.339898</td>\n",
              "      <td>1.000000</td>\n",
              "      <td>-0.233296</td>\n",
              "      <td>-0.172482</td>\n",
              "      <td>0.096688</td>\n",
              "    </tr>\n",
              "    <tr>\n",
              "      <th>SibSp</th>\n",
              "      <td>-0.035322</td>\n",
              "      <td>0.083081</td>\n",
              "      <td>-0.233296</td>\n",
              "      <td>1.000000</td>\n",
              "      <td>0.414838</td>\n",
              "      <td>0.159651</td>\n",
              "    </tr>\n",
              "    <tr>\n",
              "      <th>Parch</th>\n",
              "      <td>0.081629</td>\n",
              "      <td>0.018443</td>\n",
              "      <td>-0.172482</td>\n",
              "      <td>0.414838</td>\n",
              "      <td>1.000000</td>\n",
              "      <td>0.216225</td>\n",
              "    </tr>\n",
              "    <tr>\n",
              "      <th>Fare</th>\n",
              "      <td>0.257307</td>\n",
              "      <td>-0.549500</td>\n",
              "      <td>0.096688</td>\n",
              "      <td>0.159651</td>\n",
              "      <td>0.216225</td>\n",
              "      <td>1.000000</td>\n",
              "    </tr>\n",
              "  </tbody>\n",
              "</table>\n",
              "</div>"
            ],
            "text/plain": [
              "          Survived    Pclass       Age     SibSp     Parch      Fare\n",
              "Survived  1.000000 -0.338481 -0.064910 -0.035322  0.081629  0.257307\n",
              "Pclass   -0.338481  1.000000 -0.339898  0.083081  0.018443 -0.549500\n",
              "Age      -0.064910 -0.339898  1.000000 -0.233296 -0.172482  0.096688\n",
              "SibSp    -0.035322  0.083081 -0.233296  1.000000  0.414838  0.159651\n",
              "Parch     0.081629  0.018443 -0.172482  0.414838  1.000000  0.216225\n",
              "Fare      0.257307 -0.549500  0.096688  0.159651  0.216225  1.000000"
            ]
          },
          "metadata": {
            "tags": []
          },
          "execution_count": 24
        }
      ]
    },
    {
      "cell_type": "code",
      "metadata": {
        "id": "QlxVmtZpsLAq",
        "colab_type": "code",
        "colab": {
          "base_uri": "https://localhost:8080/",
          "height": 504
        },
        "outputId": "8eb0e4f3-67f4-485f-cf44-09c527604e5f"
      },
      "source": [
        "plt.subplots(figsize = (15,8))\n",
        "sns.heatmap(train.corr(), annot=True,cmap=\"YlOrRd_r\")\n",
        "plt.title(\"Correlations of the Features\", fontsize = 20);"
      ],
      "execution_count": 26,
      "outputs": [
        {
          "output_type": "display_data",
          "data": {
            "image/png": "[encoded data removed]",
            "text/plain": [
              "<Figure size 1080x576 with 2 Axes>"
            ]
          },
          "metadata": {
            "tags": [],
            "needs_background": "light"
          }
        }
      ]
    },
    {
      "cell_type": "markdown",
      "metadata": {
        "id": "12iqtr0-sgkQ",
        "colab_type": "text"
      },
      "source": [
        "Correlation is the degree to which two pairs are linearly related.\n",
        "\n",
        "Positively Correlated Features:\n",
        "\n",
        "Survived and fare: 0.257.\n",
        "There is a positive correlation between Fare and Survival rate. The explanation is simple,the passenger who paid more money for their ticket were more likely to survive.It is not a strong relationship however.\n",
        "\n",
        "Negatively Correlated Features:\n",
        "\n",
        "Fare and Pclass: -0.55\n",
        "This relationship can be explained by saying that first class passenger(1) paid more for fare then second class passenger(2), similarly second class passenger paid more than the third class passenger(3).\n",
        "\n"
      ]
    },
    {
      "cell_type": "code",
      "metadata": {
        "id": "PWZ6GBBhsZSG",
        "colab_type": "code",
        "colab": {
          "base_uri": "https://localhost:8080/",
          "height": 645
        },
        "outputId": "3776cb4f-f33f-44fd-b37c-499d78fd01ee"
      },
      "source": [
        "# Find the VIF matrix\n",
        "print(\"Below is our VIF matrix heat map\\n\")\n",
        "VIF=pd.DataFrame(np.linalg.inv(correlation.values), index = correlation.index, columns=correlation.columns)\n",
        "VIF\n",
        "\n",
        "# using a heatmap to display the results\n",
        "plt.figure(figsize = (10, 10))\n",
        "sns.heatmap(VIF, annot = True)"
      ],
      "execution_count": 30,
      "outputs": [
        {
          "output_type": "stream",
          "text": [
            "Below is our VIF matrix heat map\n",
            "\n"
          ],
          "name": "stdout"
        },
        {
          "output_type": "execute_result",
          "data": {
            "text/plain": [
              "<matplotlib.axes._subplots.AxesSubplot at 0x7f6b9649ffd0>"
            ]
          },
          "metadata": {
            "tags": []
          },
          "execution_count": 30
        },
        {
          "output_type": "display_data",
          "data": {
            "image/png": "[encoded data removed]",
            "text/plain": [
              "<Figure size 720x720 with 2 Axes>"
            ]
          },
          "metadata": {
            "tags": [],
            "needs_background": "light"
          }
        }
      ]
    },
    {
      "cell_type": "markdown",
      "metadata": {
        "id": "-uy84HwCGAr1",
        "colab_type": "text"
      },
      "source": [
        "From the VIF heatmap, it seems that there is no high multicolinearity between the two variables. The presence of multicolinearity undermines statistical significance of the independent variables.This means that i will not have to drop any of the features."
      ]
    },
    {
      "cell_type": "markdown",
      "metadata": {
        "id": "vTbdjSrhVIiT",
        "colab_type": "text"
      },
      "source": [
        "## 7. Implementing the Solution"
      ]
    },
    {
      "cell_type": "code",
      "metadata": {
        "id": "kCPG-Y0zWLpc",
        "colab_type": "code",
        "colab": {}
      },
      "source": [
        "#Encoding of the categorical columns\n",
        "# get dummy variables for Column sex and embarked since they are categorical.\n",
        "#Do this for both datasets\n",
        "train = pd.get_dummies(train, columns=[\"Embarked\"],drop_first=True)\n",
        "train = pd.get_dummies(train, columns=[\"Sex\"],drop_first=True)"
      ],
      "execution_count": 31,
      "outputs": []
    },
    {
      "cell_type": "code",
      "metadata": {
        "id": "qjRFyLoRWLzB",
        "colab_type": "code",
        "colab": {}
      },
      "source": [
        "test = pd.get_dummies(test, columns=[\"Sex\"], drop_first=True)\n",
        "test = pd.get_dummies(test, columns=[\"Embarked\"],drop_first=True)"
      ],
      "execution_count": 32,
      "outputs": []
    },
    {
      "cell_type": "code",
      "metadata": {
        "id": "HLgAenGfWL2c",
        "colab_type": "code",
        "colab": {
          "base_uri": "https://localhost:8080/",
          "height": 586
        },
        "outputId": "c6d58ae1-0bb8-4536-eef8-a229f7dd3e6b"
      },
      "source": [
        "print(train)\n",
        "print('\\n')\n",
        "print(test)"
      ],
      "execution_count": 33,
      "outputs": [
        {
          "output_type": "stream",
          "text": [
            "             Survived  Pclass   Age  ...  Embarked_Q  Embarked_S  Sex_male\n",
            "PassengerId                          ...                                  \n",
            "1                   0       3  22.0  ...           0           1         1\n",
            "2                   1       1  38.0  ...           0           0         0\n",
            "3                   1       3  26.0  ...           0           1         0\n",
            "4                   1       1  35.0  ...           0           1         0\n",
            "5                   0       3  35.0  ...           0           1         1\n",
            "...               ...     ...   ...  ...         ...         ...       ...\n",
            "887                 0       2  27.0  ...           0           1         1\n",
            "888                 1       1  19.0  ...           0           1         0\n",
            "889                 0       3  28.0  ...           0           1         0\n",
            "890                 1       1  26.0  ...           0           0         1\n",
            "891                 0       3  32.0  ...           1           0         1\n",
            "\n",
            "[891 rows x 9 columns]\n",
            "\n",
            "\n",
            "             Pclass   Age  SibSp  ...  Sex_male  Embarked_Q  Embarked_S\n",
            "PassengerId                       ...                                  \n",
            "892               3  34.5      0  ...         1           1           0\n",
            "893               3  47.0      1  ...         0           0           1\n",
            "894               2  62.0      0  ...         1           1           0\n",
            "895               3  27.0      0  ...         1           0           1\n",
            "896               3  22.0      1  ...         0           0           1\n",
            "...             ...   ...    ...  ...       ...         ...         ...\n",
            "1305              3  27.0      0  ...         1           0           1\n",
            "1306              1  39.0      0  ...         0           0           0\n",
            "1307              3  38.5      0  ...         1           0           1\n",
            "1308              3  27.0      0  ...         1           0           1\n",
            "1309              3  27.0      1  ...         1           0           0\n",
            "\n",
            "[418 rows x 8 columns]\n"
          ],
          "name": "stdout"
        }
      ]
    },
    {
      "cell_type": "markdown",
      "metadata": {
        "id": "s2Cy6bELefDQ",
        "colab_type": "text"
      },
      "source": [
        "The encode was successful, let me get to building the models."
      ]
    },
    {
      "cell_type": "code",
      "metadata": {
        "id": "PJLZaRzJXJ3w",
        "colab_type": "code",
        "colab": {}
      },
      "source": [
        "# Modelling\n",
        "# \n",
        "X=train.drop('Survived',axis=1)\n",
        "y=train['Survived'].astype(int)"
      ],
      "execution_count": 34,
      "outputs": []
    },
    {
      "cell_type": "code",
      "metadata": {
        "id": "ifypvPpsevVE",
        "colab_type": "code",
        "colab": {}
      },
      "source": [
        "# Train Test Split\n",
        "# ---\n",
        "# To avoid over-fitting, we will divide our dataset into training and test splits, \n",
        "# which gives us a better idea as to how our algorithm performed during the testing phase. \n",
        "# This way our algorithm is tested on un-seen data\n",
        "# ---\n",
        "# Let me start with a test size split of 0.2\n",
        "\n",
        "from sklearn.model_selection import train_test_split\n",
        "X_train, X_test, y_train, y_test = train_test_split(X, y, test_size=0.20)"
      ],
      "execution_count": 35,
      "outputs": []
    },
    {
      "cell_type": "code",
      "metadata": {
        "id": "0NtpDEXae1h5",
        "colab_type": "code",
        "colab": {}
      },
      "source": [
        "# Feature Scaling\n",
        "# ---\n",
        "# Before making any actual predictions, let me scale the features \n",
        "# so that all of them can be uniformly evaluated.\n",
        "#\n",
        "from sklearn.preprocessing import StandardScaler\n",
        "scaler = StandardScaler()\n",
        "scaler.fit(X_train)\n",
        "\n",
        "X_train = scaler.transform(X_train)\n",
        "X_test = scaler.transform(X_test)"
      ],
      "execution_count": 36,
      "outputs": []
    },
    {
      "cell_type": "markdown",
      "metadata": {
        "id": "a8fXT7cvnP9Y",
        "colab_type": "text"
      },
      "source": [
        "Feature scaling or Standardization is applied to independent variables or features if data and helps to normalize data within a particular range."
      ]
    },
    {
      "cell_type": "code",
      "metadata": {
        "id": "gSc9aWEhe1wm",
        "colab_type": "code",
        "colab": {
          "base_uri": "https://localhost:8080/",
          "height": 70
        },
        "outputId": "2c5e65cb-f5a2-4a0c-94b3-8457e5c770ca"
      },
      "source": [
        "# Training and Predictions\n",
        "# ---\n",
        "# The first step is to import the KNeighborsClassifier class from the sklearn.neighbors library. \n",
        "# In the second line, this class is initialized with one parameter, i.e. n_neigbours. \n",
        "# This is basically the value for the K. There is no ideal value for K and it is selected after testing and evaluation, \n",
        "# however to start out, 5 seems to be the most commonly used value for KNN algorithm.\n",
        "# ---\n",
        "# \n",
        "from sklearn.neighbors import KNeighborsClassifier\n",
        "classifier = KNeighborsClassifier(n_neighbors=5)\n",
        "classifier.fit(X_train, y_train)"
      ],
      "execution_count": 37,
      "outputs": [
        {
          "output_type": "execute_result",
          "data": {
            "text/plain": [
              "KNeighborsClassifier(algorithm='auto', leaf_size=30, metric='minkowski',\n",
              "                     metric_params=None, n_jobs=None, n_neighbors=5, p=2,\n",
              "                     weights='uniform')"
            ]
          },
          "metadata": {
            "tags": []
          },
          "execution_count": 37
        }
      ]
    },
    {
      "cell_type": "markdown",
      "metadata": {
        "id": "e6D-yTVznsY_",
        "colab_type": "text"
      },
      "source": [
        "The parameters above eg leaf_size and n_neighbours, i will later compare with the with the hyperparameters i get after hyperparameter tuning."
      ]
    },
    {
      "cell_type": "code",
      "metadata": {
        "id": "o69eMiTCe1zT",
        "colab_type": "code",
        "colab": {}
      },
      "source": [
        "# The final step is to make predictions on our test data\n",
        "# ---\n",
        "# \n",
        "y_pred = classifier.predict(X_test)"
      ],
      "execution_count": 38,
      "outputs": []
    },
    {
      "cell_type": "code",
      "metadata": {
        "id": "6HN7vV82e150",
        "colab_type": "code",
        "colab": {
          "base_uri": "https://localhost:8080/",
          "height": 212
        },
        "outputId": "0d0bbc62-c7fe-4752-b007-63976243c8c2"
      },
      "source": [
        "# Evaluating the Algorithm\n",
        "# ---\n",
        "# For evaluating an algorithm, confusion matrix, precision, recall and f1 score are the most commonly used metrics. \n",
        "# The confusion_matrix and classification_report methods of the sklearn.metrics can be used to calculate these metrics. \n",
        "# ---\n",
        "# \n",
        "from sklearn.metrics import classification_report, confusion_matrix\n",
        "print(confusion_matrix(y_test, y_pred))\n",
        "print(classification_report(y_test, y_pred))"
      ],
      "execution_count": 39,
      "outputs": [
        {
          "output_type": "stream",
          "text": [
            "[[98 14]\n",
            " [19 48]]\n",
            "              precision    recall  f1-score   support\n",
            "\n",
            "           0       0.84      0.88      0.86       112\n",
            "           1       0.77      0.72      0.74        67\n",
            "\n",
            "    accuracy                           0.82       179\n",
            "   macro avg       0.81      0.80      0.80       179\n",
            "weighted avg       0.81      0.82      0.81       179\n",
            "\n"
          ],
          "name": "stdout"
        }
      ]
    },
    {
      "cell_type": "markdown",
      "metadata": {
        "id": "Tp4FBQRCoUsx",
        "colab_type": "text"
      },
      "source": [
        "The model has an accuracy of 0.78, i have no doubt that after modelling  using top important features, my accuracy will increase."
      ]
    },
    {
      "cell_type": "markdown",
      "metadata": {
        "id": "8POCu8BXfSB2",
        "colab_type": "text"
      },
      "source": [
        "#Model using different test sizes\n"
      ]
    },
    {
      "cell_type": "code",
      "metadata": {
        "id": "Me5ItUkOo65s",
        "colab_type": "code",
        "colab": {
          "base_uri": "https://localhost:8080/",
          "height": 52
        },
        "outputId": "57862a3d-93c2-4673-ab58-135f9dcb1888"
      },
      "source": [
        "#In this model i will split into different test sizes\n",
        "X=train.drop('Survived',axis=1)\n",
        "y=train['Survived'].astype(int)\n",
        "print(X.shape)\n",
        "print(y.shape)"
      ],
      "execution_count": 40,
      "outputs": [
        {
          "output_type": "stream",
          "text": [
            "(891, 8)\n",
            "(891,)\n"
          ],
          "name": "stdout"
        }
      ]
    },
    {
      "cell_type": "code",
      "metadata": {
        "id": "9nxnprrXe12e",
        "colab_type": "code",
        "colab": {
          "base_uri": "https://localhost:8080/",
          "height": 106
        },
        "outputId": "bd379863-6469-47e0-8192-88d0ca77cd97"
      },
      "source": [
        "#Do a split\n",
        "from sklearn.metrics import accuracy_score,classification_report,confusion_matrix\n",
        "tests_size = [0.1,0.2, 0.3, 0.4, 0.5]\n",
        "\n",
        "    \n",
        "for test in tests_size:\n",
        "  X_train, X_test, y_train, y_test = train_test_split(X, y, test_size = test, random_state = 69)\n",
        "  \n",
        "  #scale model\n",
        "  scaler = StandardScaler()\n",
        "  scaler.fit(X_train)\n",
        "\n",
        "  X_train = scaler.transform(X_train)\n",
        "  X_test = scaler.transform(X_test)  \n",
        "  \n",
        "  clf= KNeighborsClassifier(n_neighbors = 5)\n",
        "  clf.fit(X_train, y_train)\n",
        "  # evaluating the algorithm\n",
        "  y_pred_x = clf.predict(X_test)\n",
        "  print(\"Test size {} has accuracy score:\".format(test), accuracy_score(y_test, y_pred_x))\n"
      ],
      "execution_count": 41,
      "outputs": [
        {
          "output_type": "stream",
          "text": [
            "Test size 0.1 has accuracy score: 0.7888888888888889\n",
            "Test size 0.2 has accuracy score: 0.7988826815642458\n",
            "Test size 0.3 has accuracy score: 0.8134328358208955\n",
            "Test size 0.4 has accuracy score: 0.8067226890756303\n",
            "Test size 0.5 has accuracy score: 0.8094170403587444\n"
          ],
          "name": "stdout"
        }
      ]
    },
    {
      "cell_type": "markdown",
      "metadata": {
        "id": "Uxd5Y5a_pKLf",
        "colab_type": "text"
      },
      "source": [
        "Modelling using various test sizes has an impact on the accuracy.The higher the test size, the higher the accuracy of the model. Ie test size of 0.5 had an accuracy of 0.81 while a test size of 0.1 has an accuracy of 0.78"
      ]
    },
    {
      "cell_type": "code",
      "metadata": {
        "id": "3O7xGCRbsYwj",
        "colab_type": "code",
        "colab": {
          "base_uri": "https://localhost:8080/",
          "height": 212
        },
        "outputId": "e92cb5f6-057b-4c56-e0a2-bc764498fe84"
      },
      "source": [
        "print(confusion_matrix(y_test, y_pred_x))\n",
        "print(classification_report(y_test, y_pred_x))"
      ],
      "execution_count": null,
      "outputs": [
        {
          "output_type": "stream",
          "text": [
            "[[254  27]\n",
            " [ 55 110]]\n",
            "              precision    recall  f1-score   support\n",
            "\n",
            "           0       0.82      0.90      0.86       281\n",
            "           1       0.80      0.67      0.73       165\n",
            "\n",
            "    accuracy                           0.82       446\n",
            "   macro avg       0.81      0.79      0.79       446\n",
            "weighted avg       0.81      0.82      0.81       446\n",
            "\n"
          ],
          "name": "stdout"
        }
      ]
    },
    {
      "cell_type": "markdown",
      "metadata": {
        "id": "D7tth9LQNI78",
        "colab_type": "text"
      },
      "source": [
        "#Optimization using Linear Discriminant Analysis\n",
        "\n",
        "Linear Discriminant Analysis (LDA) is a simple and powerful linear transformation that is most commonly used as dimensionality reduction technique in the pre-processing step for machine learning applications. The goal of linear discriminant analysis is to project a dataset onto a lower-dimensional space with good class-separability in order avoid overfitting (\"curse of dimensionality\") and also reduce computational costs."
      ]
    },
    {
      "cell_type": "code",
      "metadata": {
        "id": "-w69a5RjNHOP",
        "colab_type": "code",
        "colab": {}
      },
      "source": [
        "from sklearn.discriminant_analysis import LinearDiscriminantAnalysis as LDA\n",
        "lda = LDA(n_components=1)\n",
        "X_train = lda.fit_transform(X_train, y_train)\n",
        "X_test = lda.transform(X_test)\n"
      ],
      "execution_count": null,
      "outputs": []
    },
    {
      "cell_type": "code",
      "metadata": {
        "id": "uJro7kzQNHfk",
        "colab_type": "code",
        "colab": {
          "base_uri": "https://localhost:8080/",
          "height": 106
        },
        "outputId": "b656945a-02b1-431d-d8c8-e4c985a525e5"
      },
      "source": [
        "from sklearn.metrics import accuracy_score,classification_report,confusion_matrix\n",
        "tests_size = [0.1,0.2, 0.3, 0.4, 0.5]\n",
        "\n",
        "    \n",
        "for test in tests_size:\n",
        "  X_train, X_test, y_train, y_test = train_test_split(X, y, test_size = test, random_state = 69)\n",
        "  \n",
        "  #scale model\n",
        "  scaler = StandardScaler()\n",
        "  scaler.fit(X_train)\n",
        "\n",
        "  X_train = scaler.transform(X_train)\n",
        "  X_test = scaler.transform(X_test)  \n",
        "  \n",
        "  clf= KNeighborsClassifier(n_neighbors = 5)\n",
        "  clf.fit(X_train, y_train)\n",
        "  # evaluating the algorithm\n",
        "  y_pred_lda = clf.predict(X_test)\n",
        "  print(\"Test size {} has accuracy score:\".format(test), accuracy_score(y_test, y_pred_lda))\n",
        "\n"
      ],
      "execution_count": null,
      "outputs": [
        {
          "output_type": "stream",
          "text": [
            "Test size 0.1 has accuracy score: 0.7888888888888889\n",
            "Test size 0.2 has accuracy score: 0.7988826815642458\n",
            "Test size 0.3 has accuracy score: 0.8097014925373134\n",
            "Test size 0.4 has accuracy score: 0.803921568627451\n",
            "Test size 0.5 has accuracy score: 0.8161434977578476\n"
          ],
          "name": "stdout"
        }
      ]
    },
    {
      "cell_type": "code",
      "metadata": {
        "id": "18X6wy6xyzfB",
        "colab_type": "code",
        "colab": {
          "base_uri": "https://localhost:8080/",
          "height": 408
        },
        "outputId": "3922894a-8695-467c-d230-782f162bf722"
      },
      "source": [
        "\n",
        "print(confusion_matrix(y_test, y_pred_lda))\n",
        "print(classification_report(y_test, y_pred_lda))\n",
        "print('\\n')\n",
        "print(\"Test size {} has  this classification report:\".format(test), classification_report(y_test, y_pred_lda))\n"
      ],
      "execution_count": null,
      "outputs": [
        {
          "output_type": "stream",
          "text": [
            "[[254  27]\n",
            " [ 55 110]]\n",
            "              precision    recall  f1-score   support\n",
            "\n",
            "           0       0.82      0.90      0.86       281\n",
            "           1       0.80      0.67      0.73       165\n",
            "\n",
            "    accuracy                           0.82       446\n",
            "   macro avg       0.81      0.79      0.79       446\n",
            "weighted avg       0.81      0.82      0.81       446\n",
            "\n",
            "\n",
            "\n",
            "Test size 0.5 has  this classification report:               precision    recall  f1-score   support\n",
            "\n",
            "           0       0.82      0.90      0.86       281\n",
            "           1       0.80      0.67      0.73       165\n",
            "\n",
            "    accuracy                           0.82       446\n",
            "   macro avg       0.81      0.79      0.79       446\n",
            "weighted avg       0.81      0.82      0.81       446\n",
            "\n"
          ],
          "name": "stdout"
        }
      ]
    },
    {
      "cell_type": "code",
      "metadata": {
        "id": "g_nXxO5ANHoK",
        "colab_type": "code",
        "colab": {}
      },
      "source": [
        ""
      ],
      "execution_count": null,
      "outputs": []
    },
    {
      "cell_type": "markdown",
      "metadata": {
        "id": "lQ2G4ZPDVOXE",
        "colab_type": "text"
      },
      "source": [
        "## 8. Challenging the solution"
      ]
    },
    {
      "cell_type": "markdown",
      "metadata": {
        "id": "jWVGKGuiYMWg",
        "colab_type": "text"
      },
      "source": [
        "> Let me challenge the  solution and see if other methods will yield higher accuracy or lower.\n",
        "\n",
        "\n",
        "\n",
        "\n"
      ]
    },
    {
      "cell_type": "markdown",
      "metadata": {
        "id": "Q5XhGVcVzpMx",
        "colab_type": "text"
      },
      "source": [
        "Hyperparameter tune KNN Classifier"
      ]
    },
    {
      "cell_type": "code",
      "metadata": {
        "id": "b-WcoRIM56ep",
        "colab_type": "code",
        "colab": {
          "base_uri": "https://localhost:8080/",
          "height": 70
        },
        "outputId": "588be3e6-8541-44ac-9afd-edb9d2b46382"
      },
      "source": [
        "#List Hyperparameters that we want to tune.\n",
        "from sklearn.model_selection import  GridSearchCV\n",
        "leaf_size = list(range(1,50))\n",
        "n_neighbors = list(range(1,30))\n",
        "p=[1,2]\n",
        "#Convert to dictionary\n",
        "hyperparameters = dict(leaf_size=leaf_size, n_neighbors=n_neighbors, p=p)\n",
        "#Create new KNN object\n",
        "clf= KNeighborsClassifier()\n",
        "#Use GridSearch\n",
        "search = GridSearchCV(clf, hyperparameters, cv=10)\n",
        "#Fit the model\n",
        "best_model = clf.fit(X,y)\n",
        "#Print The value of best Hyperparameters\n",
        "# print out the best parameters\n",
        "#print(f'The best hyperparameters are: {search.best_params_}')\n",
        "print('Best leaf_size:', best_model.get_params()['leaf_size'])\n",
        "print('Best p:', best_model.get_params()['p'])\n",
        "print('Best n_neighbors:', best_model.get_params()['n_neighbors'])\n"
      ],
      "execution_count": null,
      "outputs": [
        {
          "output_type": "stream",
          "text": [
            "Best leaf_size: 30\n",
            "Best p: 2\n",
            "Best n_neighbors: 5\n"
          ],
          "name": "stdout"
        }
      ]
    },
    {
      "cell_type": "markdown",
      "metadata": {
        "id": "jYGMSt_VqrxE",
        "colab_type": "text"
      },
      "source": [
        "The best hyperparameters are similar  the ones i used during initial modelling.I expect that the accuracy will be the same."
      ]
    },
    {
      "cell_type": "code",
      "metadata": {
        "id": "XnTgTvTI-kAA",
        "colab_type": "code",
        "colab": {}
      },
      "source": [
        "#The model\n",
        "X1=train.drop('Survived',axis=1)\n",
        "y1=train['Survived'].astype(int)"
      ],
      "execution_count": null,
      "outputs": []
    },
    {
      "cell_type": "code",
      "metadata": {
        "id": "-msZml2_-tbk",
        "colab_type": "code",
        "colab": {}
      },
      "source": [
        "#Let me take a test size of 0.20\n",
        "X1_train, X1_test, y1_train, y1_test = train_test_split(X1, y1, test_size=0.20)"
      ],
      "execution_count": null,
      "outputs": []
    },
    {
      "cell_type": "code",
      "metadata": {
        "id": "e6pwY7qy-tnw",
        "colab_type": "code",
        "colab": {}
      },
      "source": [
        "#scale model\n",
        "scaler = StandardScaler()\n",
        "scaler.fit(X1_train)\n",
        "\n",
        "X1_train = scaler.transform(X1_train)\n",
        "X1_test = scaler.transform(X1_test)  \n",
        "  \n",
        "clf= KNeighborsClassifier(n_neighbors = 5, leaf_size=30, p=2)\n",
        "clf.fit(X1_train, y1_train)\n",
        "# evaluating the algorithm\n",
        "y_1_pred = clf.predict(X1_test)"
      ],
      "execution_count": null,
      "outputs": []
    },
    {
      "cell_type": "code",
      "metadata": {
        "id": "0i1LiTUS-tth",
        "colab_type": "code",
        "colab": {
          "base_uri": "https://localhost:8080/",
          "height": 212
        },
        "outputId": "b7679692-291b-4e95-cef9-6cb9e0a26834"
      },
      "source": [
        "print(confusion_matrix(y1_test, y_1_pred))\n",
        "print(classification_report(y1_test, y_1_pred))"
      ],
      "execution_count": null,
      "outputs": [
        {
          "output_type": "stream",
          "text": [
            "[[95 13]\n",
            " [23 48]]\n",
            "              precision    recall  f1-score   support\n",
            "\n",
            "           0       0.81      0.88      0.84       108\n",
            "           1       0.79      0.68      0.73        71\n",
            "\n",
            "    accuracy                           0.80       179\n",
            "   macro avg       0.80      0.78      0.78       179\n",
            "weighted avg       0.80      0.80      0.80       179\n",
            "\n"
          ],
          "name": "stdout"
        }
      ]
    },
    {
      "cell_type": "code",
      "metadata": {
        "id": "cXej132x9fkc",
        "colab_type": "code",
        "colab": {
          "base_uri": "https://localhost:8080/",
          "height": 106
        },
        "outputId": "044bed93-a750-4c06-abf8-59e1d8259db9"
      },
      "source": [
        "for test in tests_size:\n",
        "  X1_train, X1_test, y1_train, y1_test = train_test_split(X1, y1, test_size = test, random_state = 69)\n",
        "  \n",
        "  #scale model\n",
        "  scaler = StandardScaler()\n",
        "  scaler.fit(X1_train)\n",
        "\n",
        "  X1_train = scaler.transform(X1_train)\n",
        "  X1_test = scaler.transform(X1_test)  \n",
        "  \n",
        "  clf= KNeighborsClassifier(n_neighbors = 5, leaf_size=30, p=2)\n",
        "  clf.fit(X1_train, y1_train)\n",
        "  # evaluating the algorithm\n",
        "  y_pred_hyp = clf.predict(X1_test)\n",
        "  print(\"Test size {} has accuracy score:\".format(test), accuracy_score(y1_test, y_pred_hyp))\n"
      ],
      "execution_count": null,
      "outputs": [
        {
          "output_type": "stream",
          "text": [
            "Test size 0.1 has accuracy score: 0.7888888888888889\n",
            "Test size 0.2 has accuracy score: 0.7988826815642458\n",
            "Test size 0.3 has accuracy score: 0.8097014925373134\n",
            "Test size 0.4 has accuracy score: 0.803921568627451\n",
            "Test size 0.5 has accuracy score: 0.8161434977578476\n"
          ],
          "name": "stdout"
        }
      ]
    },
    {
      "cell_type": "markdown",
      "metadata": {
        "id": "1XMe4Yatrh8u",
        "colab_type": "text"
      },
      "source": [
        "As expected the metrics are the same since i modelled with silmilar parameters."
      ]
    },
    {
      "cell_type": "code",
      "metadata": {
        "id": "JZXLNVhwBr4Q",
        "colab_type": "code",
        "colab": {
          "base_uri": "https://localhost:8080/",
          "height": 212
        },
        "outputId": "579f6815-7d02-4160-ecb6-72e1f572a0fd"
      },
      "source": [
        "print(confusion_matrix(y1_test, y_pred_hyp))\n",
        "print(classification_report(y1_test, y_pred_hyp))"
      ],
      "execution_count": null,
      "outputs": [
        {
          "output_type": "stream",
          "text": [
            "[[254  27]\n",
            " [ 55 110]]\n",
            "              precision    recall  f1-score   support\n",
            "\n",
            "           0       0.82      0.90      0.86       281\n",
            "           1       0.80      0.67      0.73       165\n",
            "\n",
            "    accuracy                           0.82       446\n",
            "   macro avg       0.81      0.79      0.79       446\n",
            "weighted avg       0.81      0.82      0.81       446\n",
            "\n"
          ],
          "name": "stdout"
        }
      ]
    },
    {
      "cell_type": "markdown",
      "metadata": {
        "id": "xrmHVMVsVS--",
        "colab_type": "text"
      },
      "source": [
        "## 9. Conclusion"
      ]
    },
    {
      "cell_type": "markdown",
      "metadata": {
        "id": "pth2qSWhuBIy",
        "colab_type": "text"
      },
      "source": [
        "> \n",
        "I observed that majority of the passengers died and that majority of the passengers that died were male.\n",
        "\n",
        "In the  models the best performing model has test size split that is higher(0.5) accuracy score of 0.81. This shows that the higher the test size split the higher the accuracy of the model.\n",
        "\n",
        "I challenged my model by doing hyperparameter tuning,the best parameters from Grid search were similar to the parameters i used during initial modelling hence this did not change the accuracy\n",
        "\n",
        "The overall accuracy of this model can be increased by modellingbwith top  important features only.\n",
        "\n",
        "According to the metric of success that i set, i would say the model accuracy is not far off from my 80% threshold that i had set.\n",
        "\n"
      ]
    },
    {
      "cell_type": "markdown",
      "metadata": {
        "id": "HPQviDmNtta8",
        "colab_type": "text"
      },
      "source": [
        "### a). Did we have the right data?\n",
        "I believe we have the dataset inorder to answer this research question.\n",
        "The titanic dataset has the right columns for this challenge, where we are trying to build a predictive model that answers the question: “what sorts of people were more likely to survive?” using passenger data (ie name, age, gender, socio-economic class, etc)."
      ]
    },
    {
      "cell_type": "markdown",
      "metadata": {
        "id": "HSsicSdvt4Zs",
        "colab_type": "text"
      },
      "source": [
        "### b). Did we have the right question?\n",
        "\n",
        "We had the right question ,which was the also followed by the right dataset\n",
        "Train.csv will contain the details of a subset of the passengers on board (891 to be exact) and importantly, will reveal whether they survived or not, also known as the “ground truth”.\n",
        "\n",
        "The test.csv  dataset contains similar information but does not disclose the “ground truth” for each passenger. It’s your job to predict these outcomes."
      ]
    }
  ]
}